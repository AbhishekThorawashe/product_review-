{
 "cells": [
  {
   "cell_type": "code",
   "execution_count": null,
   "metadata": {},
   "outputs": [],
   "source": [
    "import requests\n",
    "from bs4 import BeautifulSoup as bs\n"
   ]
  },
  {
   "cell_type": "code",
   "execution_count": null,
   "metadata": {},
   "outputs": [],
   "source": [
    "searchString='Apple'\n",
    "flipkart_url = \"https://www.flipkart.com/search?q=\" + searchString\n"
   ]
  },
  {
   "cell_type": "code",
   "execution_count": null,
   "metadata": {},
   "outputs": [],
   "source": [
    "print(flipkart_url)"
   ]
  },
  {
   "cell_type": "code",
   "execution_count": null,
   "metadata": {},
   "outputs": [],
   "source": [
    "flipkartPage=requests.get(flipkart_url)\n",
    "print(flipkartPage)"
   ]
  },
  {
   "cell_type": "code",
   "execution_count": null,
   "metadata": {},
   "outputs": [],
   "source": [
    "flipkart_html = bs(flipkartPage.content, \"html.parser\")"
   ]
  },
  {
   "cell_type": "code",
   "execution_count": null,
   "metadata": {},
   "outputs": [],
   "source": [
    "flipkart_html "
   ]
  },
  {
   "cell_type": "code",
   "execution_count": null,
   "metadata": {},
   "outputs": [],
   "source": [
    "bigboxes = flipkart_html.findAll(\"div\", {\"class\": \"_1AtVbE col-12-12\"})"
   ]
  },
  {
   "cell_type": "code",
   "execution_count": null,
   "metadata": {},
   "outputs": [],
   "source": [
    "print(bigboxes)"
   ]
  },
  {
   "cell_type": "code",
   "execution_count": null,
   "metadata": {},
   "outputs": [],
   "source": [
    "del bigboxes[0:3]"
   ]
  },
  {
   "cell_type": "code",
   "execution_count": null,
   "metadata": {},
   "outputs": [],
   "source": [
    "box = bigboxes[0]"
   ]
  },
  {
   "cell_type": "code",
   "execution_count": null,
   "metadata": {},
   "outputs": [],
   "source": [
    "print(box) "
   ]
  },
  {
   "cell_type": "code",
   "execution_count": null,
   "metadata": {},
   "outputs": [],
   "source": [
    "productLink = \"https://www.flipkart.com\" + box.div.div.div.a['href']"
   ]
  },
  {
   "cell_type": "code",
   "execution_count": null,
   "metadata": {},
   "outputs": [],
   "source": [
    "print(productLink)"
   ]
  },
  {
   "cell_type": "code",
   "execution_count": null,
   "metadata": {},
   "outputs": [],
   "source": [
    "prodRes = requests.get(productLink)"
   ]
  },
  {
   "cell_type": "code",
   "execution_count": null,
   "metadata": {},
   "outputs": [],
   "source": [
    "print(prodRes)"
   ]
  },
  {
   "cell_type": "code",
   "execution_count": null,
   "metadata": {},
   "outputs": [],
   "source": [
    "prodRes.encoding='utf-8'"
   ]
  },
  {
   "cell_type": "code",
   "execution_count": null,
   "metadata": {},
   "outputs": [],
   "source": [
    "prod_html = bs(prodRes.text, \"html.parser\")"
   ]
  },
  {
   "cell_type": "code",
   "execution_count": null,
   "metadata": {},
   "outputs": [],
   "source": [
    "print(prod_html)"
   ]
  },
  {
   "cell_type": "code",
   "execution_count": null,
   "metadata": {},
   "outputs": [],
   "source": [
    "commentboxes = prod_html.find_all('div', {'class': \"col _2wzgFH\"})"
   ]
  },
  {
   "cell_type": "code",
   "execution_count": null,
   "metadata": {},
   "outputs": [],
   "source": [
    "print(commentboxes)"
   ]
  },
  {
   "cell_type": "code",
   "execution_count": null,
   "metadata": {},
   "outputs": [],
   "source": [
    "#make list for all list \n",
    "rating_list=[]\n",
    "review_header_list=[]\n",
    "detailed_review_list=[]\n",
    "user_list=[]\n",
    "like_dislikes_list=[]\n",
    "\n",
    "for review in commentboxes:\n",
    "    rating=review.find_all('div',{'class':'_3LWZlK _1BLPMq'})\n",
    "    text=[e.get_text()for e in rating]\n",
    "    rating_list.append(text)\n",
    "    \n",
    "    review_header=review.find_all('p',{'class':'_2-N8zT'})\n",
    "    review_header=[e.get_text()for e in review_header]\n",
    "    review_header_list.append(review_header)\n",
    "    \n",
    "    detailed_review=review.find_all('div',{'class':'t-ZTKy'})\n",
    "    detailed_review=[e.get_text()for e in detailed_review]\n",
    "    detailed_review_list.append(detailed_review)\n",
    "    \n",
    "    user=review.find_all('p',{'class':'_2sc7ZR _2V5EHH'})\n",
    "    user=[e.get_text()for e in user]\n",
    "    user_list.append(user)\n",
    "\n",
    "    like_dislike=review.find_all('span',{'class':'_3c3Px5'})\n",
    "    like_dislike=[e.get_text()for e in like_dislike]\n",
    "    like_dislikes_list.append(like_dislike)\n"
   ]
  },
  {
   "cell_type": "code",
   "execution_count": null,
   "metadata": {},
   "outputs": [],
   "source": [
    "import pandas as pd \n",
    "product_review=pd.DataFrame({\n",
    "    \"Rating\":rating_list,\n",
    "    \"User\":user_list,\n",
    "    \"Review_Header\":review_header_list,\n",
    "    \"Detailed_Review\":detailed_review_list,\n",
    "    \"Like_Dislikes\": like_dislikes_list\n",
    "        \n",
    "}) \n",
    "product_review"
   ]
  },
  {
   "cell_type": "code",
   "execution_count": null,
   "metadata": {},
   "outputs": [],
   "source": [
    "product_review.to_excel(\"flipkart_review_details.xlsx\",header=True)"
   ]
  },
  {
   "cell_type": "code",
   "execution_count": null,
   "metadata": {},
   "outputs": [],
   "source": []
  }
 ],
 "metadata": {
  "kernelspec": {
   "display_name": "Python 3",
   "language": "python",
   "name": "python3"
  },
  "language_info": {
   "codemirror_mode": {
    "name": "ipython",
    "version": 3
   },
   "file_extension": ".py",
   "mimetype": "text/x-python",
   "name": "python",
   "nbconvert_exporter": "python",
   "pygments_lexer": "ipython3",
   "version": "3.7.6"
  }
 },
 "nbformat": 4,
 "nbformat_minor": 4
}
